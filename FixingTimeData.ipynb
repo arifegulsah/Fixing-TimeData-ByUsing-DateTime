{
 "cells": [
  {
   "cell_type": "markdown",
   "id": "eae10656",
   "metadata": {},
   "source": [
    "## Code Purpose: The file named \"problem-2.ftr\" is a semi-parsed array of dates. Incorrect format data in the file must be converted to correct time formats. You can read about the problem itself here."
   ]
  }
 ],
 "metadata": {
  "kernelspec": {
   "display_name": "Python 3 (ipykernel)",
   "language": "python",
   "name": "python3"
  },
  "language_info": {
   "codemirror_mode": {
    "name": "ipython",
    "version": 3
   },
   "file_extension": ".py",
   "mimetype": "text/x-python",
   "name": "python",
   "nbconvert_exporter": "python",
   "pygments_lexer": "ipython3",
   "version": "3.9.7"
  }
 },
 "nbformat": 4,
 "nbformat_minor": 5
}
