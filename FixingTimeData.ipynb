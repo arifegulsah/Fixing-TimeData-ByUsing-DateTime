{
 "cells": [
  {
   "cell_type": "markdown",
   "id": "8db9d7ed",
   "metadata": {},
   "source": [
    "# DEALING WITH TIME DATA BY USING DATETIME MODUL \n",
    "\n",
    "### Code Purpose: The file named \"problem-2.ftr\" is a semi-parsed array of dates. Incorrect format data in the file must be converted to correct time formats. The problem itself can be accessed [here](https://github.com/arifegulsah/Fixing-TimeData-ByUsing-DateTime/blob/main/Problem1.png)."
   ]
  },
  {
   "cell_type": "markdown",
   "id": "10e240ae",
   "metadata": {},
   "source": [
    "Whole code can be viewable from [here](https://github.com/arifegulsah/Fixing-TimeData-ByUsing-DateTime/blob/main/Problem1.py) as well.\n",
    "<br><br>\n",
    "Steps:\n",
    "1. Importing Libraries\n",
    "2. Uploading Data and Converting It To DateTime\n",
    "3. Create Some Necessary Functions and Variables\n",
    "4. Handling Data and Fixing Incorrect Formats as Desired\n",
    "5. Final"
   ]
  },
  {
   "cell_type": "markdown",
   "id": "d1939d56",
   "metadata": {},
   "source": [
    "Let's start with importing libraries. "
   ]
  },
  {
   "cell_type": "code",
   "execution_count": 1,
   "id": "0e23a0e6",
   "metadata": {},
   "outputs": [],
   "source": [
    "import pandas as pd\n",
    "import feather\n",
    "import datetime as dt\n",
    "from datetime import timedelta"
   ]
  },
  {
   "cell_type": "markdown",
   "id": "cbe46f96",
   "metadata": {},
   "source": [
    "Time to upload our dataset. I have search and learn that there are two different options to upload a  *.ftr*  file. \n",
    "<br>\n",
    "Let's plug in ***datapd*** variable."
   ]
  },
  {
   "cell_type": "code",
   "execution_count": 2,
   "id": "47058866",
   "metadata": {},
   "outputs": [
    {
     "data": {
      "text/html": [
       "<div>\n",
       "<style scoped>\n",
       "    .dataframe tbody tr th:only-of-type {\n",
       "        vertical-align: middle;\n",
       "    }\n",
       "\n",
       "    .dataframe tbody tr th {\n",
       "        vertical-align: top;\n",
       "    }\n",
       "\n",
       "    .dataframe thead th {\n",
       "        text-align: right;\n",
       "    }\n",
       "</style>\n",
       "<table border=\"1\" class=\"dataframe\">\n",
       "  <thead>\n",
       "    <tr style=\"text-align: right;\">\n",
       "      <th></th>\n",
       "      <th>Aangebodensinds</th>\n",
       "    </tr>\n",
       "  </thead>\n",
       "  <tbody>\n",
       "    <tr>\n",
       "      <th>0</th>\n",
       "      <td>16-08-2019</td>\n",
       "    </tr>\n",
       "    <tr>\n",
       "      <th>1</th>\n",
       "      <td>6-06-2019</td>\n",
       "    </tr>\n",
       "    <tr>\n",
       "      <th>2</th>\n",
       "      <td>2 weken</td>\n",
       "    </tr>\n",
       "    <tr>\n",
       "      <th>3</th>\n",
       "      <td>5-08-2019</td>\n",
       "    </tr>\n",
       "    <tr>\n",
       "      <th>4</th>\n",
       "      <td>Vandaag</td>\n",
       "    </tr>\n",
       "  </tbody>\n",
       "</table>\n",
       "</div>"
      ],
      "text/plain": [
       "  Aangebodensinds\n",
       "0      16-08-2019\n",
       "1       6-06-2019\n",
       "2         2 weken\n",
       "3       5-08-2019\n",
       "4         Vandaag"
      ]
     },
     "execution_count": 2,
     "metadata": {},
     "output_type": "execute_result"
    }
   ],
   "source": [
    "datapd = pd.read_feather('problem-2.ftr')\n",
    "dataftr = feather.read_dataframe('problem-2.ftr')\n",
    "\n",
    "datapd.head()"
   ]
  },
  {
   "cell_type": "markdown",
   "id": "60fb8fc9",
   "metadata": {},
   "source": [
    "As we can see above, original dataset has rows in not datetime format.<br><br>\n",
    "By using *convertToDateTime()* funciton we will be able to convert the right rows.<br>\n",
    "*to_datetime()* function from pandas may convert some strings to datetime.<br>\n",
    "Errors like third and fifth row will be ignored for now."
   ]
  },
  {
   "cell_type": "code",
   "execution_count": 3,
   "id": "fa7785ab",
   "metadata": {},
   "outputs": [],
   "source": [
    "def convertToDateTime(originalData):\n",
    "    date_time = pd.to_datetime(originalData, format='%d-%m-%Y', errors='ignore')\n",
    "    return date_time\n",
    "\n",
    "datapd.Aangebodensinds = datapd.Aangebodensinds.apply(convertToDateTime)"
   ]
  },
  {
   "cell_type": "markdown",
   "id": "ba11cfba",
   "metadata": {},
   "source": [
    "Let's check if conversion is successful by printing the type of different rows."
   ]
  },
  {
   "cell_type": "code",
   "execution_count": 5,
   "id": "7abe0951",
   "metadata": {},
   "outputs": [
    {
     "name": "stdout",
     "output_type": "stream",
     "text": [
      "<class 'pandas._libs.tslibs.timestamps.Timestamp'>\n",
      "<class 'str'>\n"
     ]
    }
   ],
   "source": [
    "mystr1 = datapd.iloc[0, 0]\n",
    "print(type(mystr1))\n",
    "mystr2 = datapd.iloc[2,0]\n",
    "print(type(mystr2))"
   ]
  },
  {
   "cell_type": "markdown",
   "id": "52af5914",
   "metadata": {},
   "source": [
    "After uploading and handling with our dataset, It is time to create some necessary functions and variables.<br>\n",
    "First of all, we must have a control mechanism so that we can navigate the entire dataset.<br><br>\n",
    "\n",
    "There are definitely different ways to do this. As a software engineer, I focused on my own method. And I think a simple control mechanism will work for me to scan the whole array.<br>\n",
    "I'll do my condition in this scan by using *isinstance()*.<br>\n",
    "<br>\n",
    "**isinstance()** returns us some boolean results. I want to check if the row is in datetime format or not.<br>\n",
    "As you can see below, datetime formated row is true and unformated row is false."
   ]
  },
  {
   "cell_type": "code",
   "execution_count": 6,
   "id": "5655f6ae",
   "metadata": {},
   "outputs": [
    {
     "data": {
      "text/plain": [
       "True"
      ]
     },
     "execution_count": 6,
     "metadata": {},
     "output_type": "execute_result"
    }
   ],
   "source": [
    "isinstance(mystr1, dt.datetime)"
   ]
  },
  {
   "cell_type": "code",
   "execution_count": 7,
   "id": "a6724b7f",
   "metadata": {},
   "outputs": [
    {
     "data": {
      "text/plain": [
       "False"
      ]
     },
     "execution_count": 7,
     "metadata": {},
     "output_type": "execute_result"
    }
   ],
   "source": [
    "isinstance(mystr2, dt.datetime)"
   ]
  },
  {
   "cell_type": "markdown",
   "id": "f2af0631",
   "metadata": {},
   "source": [
    "Let's create a new variable to save our new results and call it **df**."
   ]
  },
  {
   "cell_type": "code",
   "execution_count": 8,
   "id": "ec986976",
   "metadata": {},
   "outputs": [],
   "source": [
    "columns = ['dates']\n",
    "df = pd.DataFrame(columns=columns)"
   ]
  },
  {
   "cell_type": "markdown",
   "id": "bf2cba3c",
   "metadata": {},
   "source": [
    "I created a variable to loop through the rows, called it **countForRows**.<br>\n",
    "Then I created a function named **keepNumbers** to keep the numbers in my rows containing numeric data such as **\"maanden, weken and 6+ maaden\".**"
   ]
  },
  {
   "cell_type": "code",
   "execution_count": 9,
   "id": "e3827f5b",
   "metadata": {},
   "outputs": [],
   "source": [
    "countForRows = 0\n",
    "\n",
    "def keepNumbers(data):\n",
    "    import re\n",
    "    result = re.sub(\"[^0-9]\", \"\", data)\n",
    "    result = int(result)\n",
    "    return result"
   ]
  },
  {
   "cell_type": "markdown",
   "id": "d39c2211",
   "metadata": {},
   "source": [
    "Now we come to the most important point.<br><br>\n",
    "With the following loop:<br>\n",
    "First of all, it is checked whether each row is in datetime format.<br>\n",
    "If the current row is, the data will be stored directly in our array named *df*.<br>\n",
    "And the last row in the correct format will be kept in the variable named *temp*.<br>\n",
    "This is because this variable will be used from the next steps.<br><br>\n",
    "Afterwards, more conditions will come into play if the row is not in the correct format.<br>\n",
    "With isinstance, the unwanted format is handled.<br>\n",
    "With keepNumbers, numbers are extracted from strings.<br>\n",
    "If the string contains **\"weken\"**, the number of weeks found by KeepNumbers is subtracted from *temp*.<br>\n",
    "If the string contains **\"maaden\"**, the number of months found by KeepNumbers is subtracted from *temp*.<br>\n",
    "If the string is just **\"Vandaang\"**, only 1 day is subracted from the *temp*.<br><br>\n",
    "\n",
    "The *timedelta()* function is used for week and day subtraction.<br>\n",
    "However, the *DateOffset()* function should be used for month subtraction.<br><br>\n",
    "\n",
    "After all subtraction, our corrected new data is of course transferred to our array named *df*.<br>"
   ]
  },
  {
   "cell_type": "code",
   "execution_count": 10,
   "id": "917e387c",
   "metadata": {
    "scrolled": false
   },
   "outputs": [],
   "source": [
    "for index in datapd['Aangebodensinds']:\n",
    "    ifItsDateTimeOrNot = isinstance(index, dt.datetime)\n",
    "    \n",
    "    if ifItsDateTimeOrNot == True:\n",
    "        temp = index\n",
    "        df.at[countForRows,'dates'] = temp\n",
    "        \n",
    "    else:\n",
    "        if 'weken' in index:\n",
    "            temptxt = index\n",
    "            number = keepNumbers(temptxt)\n",
    "            correctedFormat = (temp - timedelta(weeks=number))\n",
    "            df.at[countForRows,'dates'] = correctedFormat\n",
    "            \n",
    "        elif 'maanden' in index:\n",
    "            temptxt = index\n",
    "            number = keepNumbers(temptxt)\n",
    "            correctedFormat = (temp - pd.DateOffset(months=number))\n",
    "            df.at[countForRows,'dates'] = correctedFormat\n",
    "            \n",
    "        elif index == 'Vandaag':\n",
    "            correctedFormat = (temp - timedelta(days=1))\n",
    "            df.at[countForRows,'dates'] = correctedFormat\n",
    "            \n",
    "    countForRows = countForRows +1   "
   ]
  },
  {
   "cell_type": "markdown",
   "id": "4b2f5476",
   "metadata": {},
   "source": [
    "Now we have converted the entire dataset to the desired format. Let's save the dataset as a csv file."
   ]
  },
  {
   "cell_type": "code",
   "execution_count": 11,
   "id": "d01d4338",
   "metadata": {},
   "outputs": [
    {
     "data": {
      "text/html": [
       "<div>\n",
       "<style scoped>\n",
       "    .dataframe tbody tr th:only-of-type {\n",
       "        vertical-align: middle;\n",
       "    }\n",
       "\n",
       "    .dataframe tbody tr th {\n",
       "        vertical-align: top;\n",
       "    }\n",
       "\n",
       "    .dataframe thead th {\n",
       "        text-align: right;\n",
       "    }\n",
       "</style>\n",
       "<table border=\"1\" class=\"dataframe\">\n",
       "  <thead>\n",
       "    <tr style=\"text-align: right;\">\n",
       "      <th></th>\n",
       "      <th>dates</th>\n",
       "    </tr>\n",
       "  </thead>\n",
       "  <tbody>\n",
       "    <tr>\n",
       "      <th>0</th>\n",
       "      <td>2019-08-16 00:00:00</td>\n",
       "    </tr>\n",
       "    <tr>\n",
       "      <th>1</th>\n",
       "      <td>2019-06-06 00:00:00</td>\n",
       "    </tr>\n",
       "    <tr>\n",
       "      <th>2</th>\n",
       "      <td>2019-05-23 00:00:00</td>\n",
       "    </tr>\n",
       "    <tr>\n",
       "      <th>3</th>\n",
       "      <td>2019-08-05 00:00:00</td>\n",
       "    </tr>\n",
       "    <tr>\n",
       "      <th>4</th>\n",
       "      <td>2019-08-04 00:00:00</td>\n",
       "    </tr>\n",
       "  </tbody>\n",
       "</table>\n",
       "</div>"
      ],
      "text/plain": [
       "                 dates\n",
       "0  2019-08-16 00:00:00\n",
       "1  2019-06-06 00:00:00\n",
       "2  2019-05-23 00:00:00\n",
       "3  2019-08-05 00:00:00\n",
       "4  2019-08-04 00:00:00"
      ]
     },
     "execution_count": 11,
     "metadata": {},
     "output_type": "execute_result"
    }
   ],
   "source": [
    "df.to_csv('Problem1_Result.csv')    \n",
    "df.head()"
   ]
  },
  {
   "cell_type": "markdown",
   "id": "424109e3",
   "metadata": {},
   "source": [
    "As Final,<br>\n",
    "Working with the DateTime Module was a good experience for me.<br>\n",
    "I had not done any operation on this module or similar time data before.<br><br>\n",
    "The Pandas library and the DateTime module are a great for dealing with time data!"
   ]
  }
 ],
 "metadata": {
  "kernelspec": {
   "display_name": "Python 3 (ipykernel)",
   "language": "python",
   "name": "python3"
  },
  "language_info": {
   "codemirror_mode": {
    "name": "ipython",
    "version": 3
   },
   "file_extension": ".py",
   "mimetype": "text/x-python",
   "name": "python",
   "nbconvert_exporter": "python",
   "pygments_lexer": "ipython3",
   "version": "3.9.7"
  }
 },
 "nbformat": 4,
 "nbformat_minor": 5
}
